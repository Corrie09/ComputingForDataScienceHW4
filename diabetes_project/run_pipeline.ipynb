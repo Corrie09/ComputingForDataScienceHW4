{
 "cells": [
  {
   "cell_type": "markdown",
   "id": "cd854257",
   "metadata": {},
   "source": []
  },
  {
   "cell_type": "code",
   "execution_count": 10,
   "id": "eebdb8a4",
   "metadata": {},
   "outputs": [
    {
     "name": "stdout",
     "output_type": "stream",
     "text": [
      "[env] CWD  : /Users/tizianschenk/Documents/BSE/Computing for Data Science/ComputingForDataScienceHW4/diabetes_project\n",
      "[env] Py   : /Users/tizianschenk/Documents/BSE/Computing for Data Science/ComputingForDataScienceHW4/.venv/bin/python\n",
      "[imports] OK\n",
      "[load] Shape=(10000, 53)\n",
      "[load] Columns (53): ['Unnamed: 0', 'encounter_id', 'hospital_id', 'age', 'bmi', 'elective_surgery', 'ethnicity', 'gender', 'height', 'hospital_admit_source', 'icu_admit_source', 'icu_id', 'icu_stay_type', 'icu_type', 'pre_icu_los_days', 'readmission_status', 'weight', 'albumin_apache', 'apache_2_diagnosis', 'apache_3j_diagnosis', 'apache_post_operative', 'arf_apache', 'bilirubin_apache', 'bun_apache', 'creatinine_apache', 'fio2_apache', 'gcs_eyes_apache', 'gcs_motor_apache', 'gcs_unable_apache', 'gcs_verbal_apache', 'glucose_apache', 'heart_rate_apache', 'hematocrit_apache', 'intubated_apache', 'map_apache', 'paco2_apache', 'paco2_for_ph_apache', 'pao2_apache', 'ph_apache', 'resprate_apache', 'sodium_apache', 'temp_apache', 'urineoutput_apache', 'ventilated_apache', 'wbc_apache', 'aids', 'cirrhosis', 'hepatic_failure', 'immunosuppression', 'leukemia', 'lymphoma', 'solid_tumor_with_metastasis', 'diabetes_mellitus']\n"
     ]
    },
    {
     "data": {
      "application/vnd.microsoft.datawrangler.viewer.v0+json": {
       "columns": [
        {
         "name": "index",
         "rawType": "int64",
         "type": "integer"
        },
        {
         "name": "Unnamed: 0",
         "rawType": "int64",
         "type": "integer"
        },
        {
         "name": "encounter_id",
         "rawType": "int64",
         "type": "integer"
        },
        {
         "name": "hospital_id",
         "rawType": "int64",
         "type": "integer"
        },
        {
         "name": "age",
         "rawType": "float64",
         "type": "float"
        },
        {
         "name": "bmi",
         "rawType": "float64",
         "type": "float"
        },
        {
         "name": "elective_surgery",
         "rawType": "int64",
         "type": "integer"
        },
        {
         "name": "ethnicity",
         "rawType": "object",
         "type": "string"
        },
        {
         "name": "gender",
         "rawType": "object",
         "type": "string"
        },
        {
         "name": "height",
         "rawType": "float64",
         "type": "float"
        },
        {
         "name": "hospital_admit_source",
         "rawType": "object",
         "type": "string"
        },
        {
         "name": "icu_admit_source",
         "rawType": "object",
         "type": "string"
        },
        {
         "name": "icu_id",
         "rawType": "int64",
         "type": "integer"
        },
        {
         "name": "icu_stay_type",
         "rawType": "object",
         "type": "string"
        },
        {
         "name": "icu_type",
         "rawType": "object",
         "type": "string"
        },
        {
         "name": "pre_icu_los_days",
         "rawType": "float64",
         "type": "float"
        },
        {
         "name": "readmission_status",
         "rawType": "int64",
         "type": "integer"
        },
        {
         "name": "weight",
         "rawType": "float64",
         "type": "float"
        },
        {
         "name": "albumin_apache",
         "rawType": "float64",
         "type": "float"
        },
        {
         "name": "apache_2_diagnosis",
         "rawType": "float64",
         "type": "float"
        },
        {
         "name": "apache_3j_diagnosis",
         "rawType": "float64",
         "type": "float"
        },
        {
         "name": "apache_post_operative",
         "rawType": "int64",
         "type": "integer"
        },
        {
         "name": "arf_apache",
         "rawType": "int64",
         "type": "integer"
        },
        {
         "name": "bilirubin_apache",
         "rawType": "float64",
         "type": "float"
        },
        {
         "name": "bun_apache",
         "rawType": "float64",
         "type": "float"
        },
        {
         "name": "creatinine_apache",
         "rawType": "float64",
         "type": "float"
        },
        {
         "name": "fio2_apache",
         "rawType": "float64",
         "type": "float"
        },
        {
         "name": "gcs_eyes_apache",
         "rawType": "float64",
         "type": "float"
        },
        {
         "name": "gcs_motor_apache",
         "rawType": "float64",
         "type": "float"
        },
        {
         "name": "gcs_unable_apache",
         "rawType": "float64",
         "type": "float"
        },
        {
         "name": "gcs_verbal_apache",
         "rawType": "float64",
         "type": "float"
        },
        {
         "name": "glucose_apache",
         "rawType": "float64",
         "type": "float"
        },
        {
         "name": "heart_rate_apache",
         "rawType": "float64",
         "type": "float"
        },
        {
         "name": "hematocrit_apache",
         "rawType": "float64",
         "type": "float"
        },
        {
         "name": "intubated_apache",
         "rawType": "int64",
         "type": "integer"
        },
        {
         "name": "map_apache",
         "rawType": "float64",
         "type": "float"
        },
        {
         "name": "paco2_apache",
         "rawType": "float64",
         "type": "float"
        },
        {
         "name": "paco2_for_ph_apache",
         "rawType": "float64",
         "type": "float"
        },
        {
         "name": "pao2_apache",
         "rawType": "float64",
         "type": "float"
        },
        {
         "name": "ph_apache",
         "rawType": "float64",
         "type": "float"
        },
        {
         "name": "resprate_apache",
         "rawType": "float64",
         "type": "float"
        },
        {
         "name": "sodium_apache",
         "rawType": "float64",
         "type": "float"
        },
        {
         "name": "temp_apache",
         "rawType": "float64",
         "type": "float"
        },
        {
         "name": "urineoutput_apache",
         "rawType": "float64",
         "type": "float"
        },
        {
         "name": "ventilated_apache",
         "rawType": "int64",
         "type": "integer"
        },
        {
         "name": "wbc_apache",
         "rawType": "float64",
         "type": "float"
        },
        {
         "name": "aids",
         "rawType": "int64",
         "type": "integer"
        },
        {
         "name": "cirrhosis",
         "rawType": "int64",
         "type": "integer"
        },
        {
         "name": "hepatic_failure",
         "rawType": "int64",
         "type": "integer"
        },
        {
         "name": "immunosuppression",
         "rawType": "int64",
         "type": "integer"
        },
        {
         "name": "leukemia",
         "rawType": "int64",
         "type": "integer"
        },
        {
         "name": "lymphoma",
         "rawType": "int64",
         "type": "integer"
        },
        {
         "name": "solid_tumor_with_metastasis",
         "rawType": "int64",
         "type": "integer"
        },
        {
         "name": "diabetes_mellitus",
         "rawType": "int64",
         "type": "integer"
        }
       ],
       "ref": "6950b391-0a1e-4259-8adc-2d48e024d6c6",
       "rows": [
        [
         "0",
         "0",
         "214826",
         "118",
         "68.0",
         "22.73280282",
         "0",
         "Caucasian",
         "M",
         "180.3",
         "Floor",
         "Floor",
         "92",
         "admit",
         "CTICU",
         "0.541666667",
         "0",
         "73.9",
         "2.3",
         "113.0",
         "502.01",
         "0",
         "0",
         "0.4",
         "31.0",
         "2.51",
         null,
         "3.0",
         "6.0",
         "0.0",
         "4.0",
         "168.0",
         "118.0",
         "27.4",
         "0",
         "40.0",
         null,
         null,
         null,
         null,
         "36.0",
         "134.0",
         "39.3",
         null,
         "0",
         "14.1",
         "0",
         "0",
         "0",
         "0",
         "0",
         "0",
         "0",
         "1"
        ],
        [
         "1",
         "1",
         "246060",
         "81",
         "77.0",
         "27.421875",
         "0",
         "Caucasian",
         "F",
         "160.0",
         "Floor",
         "Floor",
         "90",
         "admit",
         "Med-Surg ICU",
         "0.927777778",
         "0",
         "70.2",
         null,
         "108.0",
         "203.01",
         "0",
         "0",
         null,
         "9.0",
         "0.56",
         "1.0",
         "1.0",
         "3.0",
         "0.0",
         "1.0",
         "145.0",
         "120.0",
         "36.9",
         "0",
         "46.0",
         "37.0",
         "37.0",
         "51.0",
         "7.45",
         "33.0",
         "145.0",
         "35.1",
         null,
         "1",
         "12.7",
         "0",
         "0",
         "0",
         "0",
         "0",
         "0",
         "0",
         "1"
        ],
        [
         "2",
         "2",
         "276985",
         "118",
         "25.0",
         "31.95274882",
         "0",
         "Caucasian",
         "F",
         "172.7",
         "Emergency Department",
         "Accident & Emergency",
         "93",
         "admit",
         "Med-Surg ICU",
         "0.0006944439999999",
         "0",
         "95.3",
         null,
         "122.0",
         "703.03",
         "0",
         "0",
         null,
         null,
         null,
         null,
         "3.0",
         "6.0",
         "0.0",
         "5.0",
         null,
         "102.0",
         null,
         "0",
         "68.0",
         null,
         null,
         null,
         null,
         "37.0",
         null,
         "36.7",
         null,
         "0",
         null,
         "0",
         "0",
         "0",
         "0",
         "0",
         "0",
         "0",
         "0"
        ]
       ],
       "shape": {
        "columns": 53,
        "rows": 3
       }
      },
      "text/html": [
       "<div>\n",
       "<style scoped>\n",
       "    .dataframe tbody tr th:only-of-type {\n",
       "        vertical-align: middle;\n",
       "    }\n",
       "\n",
       "    .dataframe tbody tr th {\n",
       "        vertical-align: top;\n",
       "    }\n",
       "\n",
       "    .dataframe thead th {\n",
       "        text-align: right;\n",
       "    }\n",
       "</style>\n",
       "<table border=\"1\" class=\"dataframe\">\n",
       "  <thead>\n",
       "    <tr style=\"text-align: right;\">\n",
       "      <th></th>\n",
       "      <th>Unnamed: 0</th>\n",
       "      <th>encounter_id</th>\n",
       "      <th>hospital_id</th>\n",
       "      <th>age</th>\n",
       "      <th>bmi</th>\n",
       "      <th>elective_surgery</th>\n",
       "      <th>ethnicity</th>\n",
       "      <th>gender</th>\n",
       "      <th>height</th>\n",
       "      <th>hospital_admit_source</th>\n",
       "      <th>...</th>\n",
       "      <th>ventilated_apache</th>\n",
       "      <th>wbc_apache</th>\n",
       "      <th>aids</th>\n",
       "      <th>cirrhosis</th>\n",
       "      <th>hepatic_failure</th>\n",
       "      <th>immunosuppression</th>\n",
       "      <th>leukemia</th>\n",
       "      <th>lymphoma</th>\n",
       "      <th>solid_tumor_with_metastasis</th>\n",
       "      <th>diabetes_mellitus</th>\n",
       "    </tr>\n",
       "  </thead>\n",
       "  <tbody>\n",
       "    <tr>\n",
       "      <th>0</th>\n",
       "      <td>0</td>\n",
       "      <td>214826</td>\n",
       "      <td>118</td>\n",
       "      <td>68.0</td>\n",
       "      <td>22.732803</td>\n",
       "      <td>0</td>\n",
       "      <td>Caucasian</td>\n",
       "      <td>M</td>\n",
       "      <td>180.3</td>\n",
       "      <td>Floor</td>\n",
       "      <td>...</td>\n",
       "      <td>0</td>\n",
       "      <td>14.1</td>\n",
       "      <td>0</td>\n",
       "      <td>0</td>\n",
       "      <td>0</td>\n",
       "      <td>0</td>\n",
       "      <td>0</td>\n",
       "      <td>0</td>\n",
       "      <td>0</td>\n",
       "      <td>1</td>\n",
       "    </tr>\n",
       "    <tr>\n",
       "      <th>1</th>\n",
       "      <td>1</td>\n",
       "      <td>246060</td>\n",
       "      <td>81</td>\n",
       "      <td>77.0</td>\n",
       "      <td>27.421875</td>\n",
       "      <td>0</td>\n",
       "      <td>Caucasian</td>\n",
       "      <td>F</td>\n",
       "      <td>160.0</td>\n",
       "      <td>Floor</td>\n",
       "      <td>...</td>\n",
       "      <td>1</td>\n",
       "      <td>12.7</td>\n",
       "      <td>0</td>\n",
       "      <td>0</td>\n",
       "      <td>0</td>\n",
       "      <td>0</td>\n",
       "      <td>0</td>\n",
       "      <td>0</td>\n",
       "      <td>0</td>\n",
       "      <td>1</td>\n",
       "    </tr>\n",
       "    <tr>\n",
       "      <th>2</th>\n",
       "      <td>2</td>\n",
       "      <td>276985</td>\n",
       "      <td>118</td>\n",
       "      <td>25.0</td>\n",
       "      <td>31.952749</td>\n",
       "      <td>0</td>\n",
       "      <td>Caucasian</td>\n",
       "      <td>F</td>\n",
       "      <td>172.7</td>\n",
       "      <td>Emergency Department</td>\n",
       "      <td>...</td>\n",
       "      <td>0</td>\n",
       "      <td>NaN</td>\n",
       "      <td>0</td>\n",
       "      <td>0</td>\n",
       "      <td>0</td>\n",
       "      <td>0</td>\n",
       "      <td>0</td>\n",
       "      <td>0</td>\n",
       "      <td>0</td>\n",
       "      <td>0</td>\n",
       "    </tr>\n",
       "  </tbody>\n",
       "</table>\n",
       "<p>3 rows × 53 columns</p>\n",
       "</div>"
      ],
      "text/plain": [
       "   Unnamed: 0  encounter_id  hospital_id   age        bmi  elective_surgery  \\\n",
       "0           0        214826          118  68.0  22.732803                 0   \n",
       "1           1        246060           81  77.0  27.421875                 0   \n",
       "2           2        276985          118  25.0  31.952749                 0   \n",
       "\n",
       "   ethnicity gender  height hospital_admit_source  ... ventilated_apache  \\\n",
       "0  Caucasian      M   180.3                 Floor  ...                 0   \n",
       "1  Caucasian      F   160.0                 Floor  ...                 1   \n",
       "2  Caucasian      F   172.7  Emergency Department  ...                 0   \n",
       "\n",
       "   wbc_apache aids cirrhosis  hepatic_failure  immunosuppression  leukemia  \\\n",
       "0        14.1    0         0                0                  0         0   \n",
       "1        12.7    0         0                0                  0         0   \n",
       "2         NaN    0         0                0                  0         0   \n",
       "\n",
       "   lymphoma  solid_tumor_with_metastasis  diabetes_mellitus  \n",
       "0         0                            0                  1  \n",
       "1         0                            0                  1  \n",
       "2         0                            0                  0  \n",
       "\n",
       "[3 rows x 53 columns]"
      ]
     },
     "metadata": {},
     "output_type": "display_data"
    }
   ],
   "source": [
    "from pathlib import Path\n",
    "import os, sys, pandas as pd\n",
    "\n",
    "print(f\"[env] CWD  : {os.getcwd()}\")\n",
    "print(f\"[env] Py   : {sys.executable}\")\n",
    "\n",
    "from diabetes_library.data_loader import load_data                    \n",
    "from diabetes_library.preprocessing import (                           \n",
    "    drop_invalid_rows,\n",
    "    fill_missing_values,\n",
    "    encode_gender,\n",
    "    encode_ethnicity,\n",
    ")\n",
    "from diabetes_library import modeling                                  \n",
    "from diabetes_library.evaluation import compute_auc                    \n",
    "\n",
    "DATA_PATH = Path(\"data/sample_diabetes_mellitus_data.csv\")\n",
    "TARGET = \"diabetes_mellitus\"\n",
    "print(\"[imports] OK\")\n",
    "\n",
    "df_raw = load_data(DATA_PATH)\n",
    "print(f\"[load] Shape={df_raw.shape}\")\n",
    "print(f\"[load] Columns ({len(df_raw.columns)}): {list(df_raw.columns)}\")\n",
    "display(df_raw.head(3))\n",
    "\n"
   ]
  },
  {
   "cell_type": "markdown",
   "id": "4bcfac2b",
   "metadata": {},
   "source": [
    "Clean and engineer features before split"
   ]
  },
  {
   "cell_type": "code",
   "execution_count": 11,
   "id": "d39aaccd",
   "metadata": {},
   "outputs": [
    {
     "name": "stdout",
     "output_type": "stream",
     "text": [
      "[preprocess] After cleaning/encoding: (9368, 57)\n"
     ]
    },
    {
     "name": "stderr",
     "output_type": "stream",
     "text": [
      "/Users/tizianschenk/Documents/BSE/Computing for Data Science/ComputingForDataScienceHW4/diabetes_project/diabetes_library/preprocessing.py:13: SettingWithCopyWarning: \n",
      "A value is trying to be set on a copy of a slice from a DataFrame.\n",
      "Try using .loc[row_indexer,col_indexer] = value instead\n",
      "\n",
      "See the caveats in the documentation: https://pandas.pydata.org/pandas-docs/stable/user_guide/indexing.html#returning-a-view-versus-a-copy\n",
      "  df[col] = df[col].fillna(df[col].mean())\n"
     ]
    },
    {
     "data": {
      "application/vnd.microsoft.datawrangler.viewer.v0+json": {
       "columns": [
        {
         "name": "index",
         "rawType": "int64",
         "type": "integer"
        },
        {
         "name": "Unnamed: 0",
         "rawType": "int64",
         "type": "integer"
        },
        {
         "name": "encounter_id",
         "rawType": "int64",
         "type": "integer"
        },
        {
         "name": "hospital_id",
         "rawType": "int64",
         "type": "integer"
        },
        {
         "name": "age",
         "rawType": "float64",
         "type": "float"
        },
        {
         "name": "bmi",
         "rawType": "float64",
         "type": "float"
        },
        {
         "name": "elective_surgery",
         "rawType": "int64",
         "type": "integer"
        },
        {
         "name": "gender",
         "rawType": "int64",
         "type": "integer"
        },
        {
         "name": "height",
         "rawType": "float64",
         "type": "float"
        },
        {
         "name": "hospital_admit_source",
         "rawType": "object",
         "type": "string"
        },
        {
         "name": "icu_admit_source",
         "rawType": "object",
         "type": "string"
        },
        {
         "name": "icu_id",
         "rawType": "int64",
         "type": "integer"
        },
        {
         "name": "icu_stay_type",
         "rawType": "object",
         "type": "string"
        },
        {
         "name": "icu_type",
         "rawType": "object",
         "type": "string"
        },
        {
         "name": "pre_icu_los_days",
         "rawType": "float64",
         "type": "float"
        },
        {
         "name": "readmission_status",
         "rawType": "int64",
         "type": "integer"
        },
        {
         "name": "weight",
         "rawType": "float64",
         "type": "float"
        },
        {
         "name": "albumin_apache",
         "rawType": "float64",
         "type": "float"
        },
        {
         "name": "apache_2_diagnosis",
         "rawType": "float64",
         "type": "float"
        },
        {
         "name": "apache_3j_diagnosis",
         "rawType": "float64",
         "type": "float"
        },
        {
         "name": "apache_post_operative",
         "rawType": "int64",
         "type": "integer"
        },
        {
         "name": "arf_apache",
         "rawType": "int64",
         "type": "integer"
        },
        {
         "name": "bilirubin_apache",
         "rawType": "float64",
         "type": "float"
        },
        {
         "name": "bun_apache",
         "rawType": "float64",
         "type": "float"
        },
        {
         "name": "creatinine_apache",
         "rawType": "float64",
         "type": "float"
        },
        {
         "name": "fio2_apache",
         "rawType": "float64",
         "type": "float"
        },
        {
         "name": "gcs_eyes_apache",
         "rawType": "float64",
         "type": "float"
        },
        {
         "name": "gcs_motor_apache",
         "rawType": "float64",
         "type": "float"
        },
        {
         "name": "gcs_unable_apache",
         "rawType": "float64",
         "type": "float"
        },
        {
         "name": "gcs_verbal_apache",
         "rawType": "float64",
         "type": "float"
        },
        {
         "name": "glucose_apache",
         "rawType": "float64",
         "type": "float"
        },
        {
         "name": "heart_rate_apache",
         "rawType": "float64",
         "type": "float"
        },
        {
         "name": "hematocrit_apache",
         "rawType": "float64",
         "type": "float"
        },
        {
         "name": "intubated_apache",
         "rawType": "int64",
         "type": "integer"
        },
        {
         "name": "map_apache",
         "rawType": "float64",
         "type": "float"
        },
        {
         "name": "paco2_apache",
         "rawType": "float64",
         "type": "float"
        },
        {
         "name": "paco2_for_ph_apache",
         "rawType": "float64",
         "type": "float"
        },
        {
         "name": "pao2_apache",
         "rawType": "float64",
         "type": "float"
        },
        {
         "name": "ph_apache",
         "rawType": "float64",
         "type": "float"
        },
        {
         "name": "resprate_apache",
         "rawType": "float64",
         "type": "float"
        },
        {
         "name": "sodium_apache",
         "rawType": "float64",
         "type": "float"
        },
        {
         "name": "temp_apache",
         "rawType": "float64",
         "type": "float"
        },
        {
         "name": "urineoutput_apache",
         "rawType": "float64",
         "type": "float"
        },
        {
         "name": "ventilated_apache",
         "rawType": "int64",
         "type": "integer"
        },
        {
         "name": "wbc_apache",
         "rawType": "float64",
         "type": "float"
        },
        {
         "name": "aids",
         "rawType": "int64",
         "type": "integer"
        },
        {
         "name": "cirrhosis",
         "rawType": "int64",
         "type": "integer"
        },
        {
         "name": "hepatic_failure",
         "rawType": "int64",
         "type": "integer"
        },
        {
         "name": "immunosuppression",
         "rawType": "int64",
         "type": "integer"
        },
        {
         "name": "leukemia",
         "rawType": "int64",
         "type": "integer"
        },
        {
         "name": "lymphoma",
         "rawType": "int64",
         "type": "integer"
        },
        {
         "name": "solid_tumor_with_metastasis",
         "rawType": "int64",
         "type": "integer"
        },
        {
         "name": "diabetes_mellitus",
         "rawType": "int64",
         "type": "integer"
        },
        {
         "name": "ethnicity_Asian",
         "rawType": "bool",
         "type": "boolean"
        },
        {
         "name": "ethnicity_Caucasian",
         "rawType": "bool",
         "type": "boolean"
        },
        {
         "name": "ethnicity_Hispanic",
         "rawType": "bool",
         "type": "boolean"
        },
        {
         "name": "ethnicity_Native American",
         "rawType": "bool",
         "type": "boolean"
        },
        {
         "name": "ethnicity_Other/Unknown",
         "rawType": "bool",
         "type": "boolean"
        }
       ],
       "ref": "25ed0a27-baf0-44a4-b672-aa0165d2f3e6",
       "rows": [
        [
         "0",
         "0",
         "214826",
         "118",
         "68.0",
         "22.73280282",
         "0",
         "1",
         "180.3",
         "Floor",
         "Floor",
         "92",
         "admit",
         "CTICU",
         "0.541666667",
         "0",
         "73.9",
         "2.3",
         "113.0",
         "502.01",
         "0",
         "0",
         "0.4",
         "31.0",
         "2.51",
         null,
         "3.0",
         "6.0",
         "0.0",
         "4.0",
         "168.0",
         "118.0",
         "27.4",
         "0",
         "40.0",
         null,
         null,
         null,
         null,
         "36.0",
         "134.0",
         "39.3",
         null,
         "0",
         "14.1",
         "0",
         "0",
         "0",
         "0",
         "0",
         "0",
         "0",
         "1",
         "False",
         "True",
         "False",
         "False",
         "False"
        ],
        [
         "1",
         "1",
         "246060",
         "81",
         "77.0",
         "27.421875",
         "0",
         "0",
         "160.0",
         "Floor",
         "Floor",
         "90",
         "admit",
         "Med-Surg ICU",
         "0.927777778",
         "0",
         "70.2",
         null,
         "108.0",
         "203.01",
         "0",
         "0",
         null,
         "9.0",
         "0.56",
         "1.0",
         "1.0",
         "3.0",
         "0.0",
         "1.0",
         "145.0",
         "120.0",
         "36.9",
         "0",
         "46.0",
         "37.0",
         "37.0",
         "51.0",
         "7.45",
         "33.0",
         "145.0",
         "35.1",
         null,
         "1",
         "12.7",
         "0",
         "0",
         "0",
         "0",
         "0",
         "0",
         "0",
         "1",
         "False",
         "True",
         "False",
         "False",
         "False"
        ],
        [
         "2",
         "2",
         "276985",
         "118",
         "25.0",
         "31.95274882",
         "0",
         "0",
         "172.7",
         "Emergency Department",
         "Accident & Emergency",
         "93",
         "admit",
         "Med-Surg ICU",
         "0.0006944439999999",
         "0",
         "95.3",
         null,
         "122.0",
         "703.03",
         "0",
         "0",
         null,
         null,
         null,
         null,
         "3.0",
         "6.0",
         "0.0",
         "5.0",
         null,
         "102.0",
         null,
         "0",
         "68.0",
         null,
         null,
         null,
         null,
         "37.0",
         null,
         "36.7",
         null,
         "0",
         null,
         "0",
         "0",
         "0",
         "0",
         "0",
         "0",
         "0",
         "0",
         "False",
         "True",
         "False",
         "False",
         "False"
        ]
       ],
       "shape": {
        "columns": 57,
        "rows": 3
       }
      },
      "text/html": [
       "<div>\n",
       "<style scoped>\n",
       "    .dataframe tbody tr th:only-of-type {\n",
       "        vertical-align: middle;\n",
       "    }\n",
       "\n",
       "    .dataframe tbody tr th {\n",
       "        vertical-align: top;\n",
       "    }\n",
       "\n",
       "    .dataframe thead th {\n",
       "        text-align: right;\n",
       "    }\n",
       "</style>\n",
       "<table border=\"1\" class=\"dataframe\">\n",
       "  <thead>\n",
       "    <tr style=\"text-align: right;\">\n",
       "      <th></th>\n",
       "      <th>Unnamed: 0</th>\n",
       "      <th>encounter_id</th>\n",
       "      <th>hospital_id</th>\n",
       "      <th>age</th>\n",
       "      <th>bmi</th>\n",
       "      <th>elective_surgery</th>\n",
       "      <th>gender</th>\n",
       "      <th>height</th>\n",
       "      <th>hospital_admit_source</th>\n",
       "      <th>icu_admit_source</th>\n",
       "      <th>...</th>\n",
       "      <th>immunosuppression</th>\n",
       "      <th>leukemia</th>\n",
       "      <th>lymphoma</th>\n",
       "      <th>solid_tumor_with_metastasis</th>\n",
       "      <th>diabetes_mellitus</th>\n",
       "      <th>ethnicity_Asian</th>\n",
       "      <th>ethnicity_Caucasian</th>\n",
       "      <th>ethnicity_Hispanic</th>\n",
       "      <th>ethnicity_Native American</th>\n",
       "      <th>ethnicity_Other/Unknown</th>\n",
       "    </tr>\n",
       "  </thead>\n",
       "  <tbody>\n",
       "    <tr>\n",
       "      <th>0</th>\n",
       "      <td>0</td>\n",
       "      <td>214826</td>\n",
       "      <td>118</td>\n",
       "      <td>68.0</td>\n",
       "      <td>22.732803</td>\n",
       "      <td>0</td>\n",
       "      <td>1</td>\n",
       "      <td>180.3</td>\n",
       "      <td>Floor</td>\n",
       "      <td>Floor</td>\n",
       "      <td>...</td>\n",
       "      <td>0</td>\n",
       "      <td>0</td>\n",
       "      <td>0</td>\n",
       "      <td>0</td>\n",
       "      <td>1</td>\n",
       "      <td>False</td>\n",
       "      <td>True</td>\n",
       "      <td>False</td>\n",
       "      <td>False</td>\n",
       "      <td>False</td>\n",
       "    </tr>\n",
       "    <tr>\n",
       "      <th>1</th>\n",
       "      <td>1</td>\n",
       "      <td>246060</td>\n",
       "      <td>81</td>\n",
       "      <td>77.0</td>\n",
       "      <td>27.421875</td>\n",
       "      <td>0</td>\n",
       "      <td>0</td>\n",
       "      <td>160.0</td>\n",
       "      <td>Floor</td>\n",
       "      <td>Floor</td>\n",
       "      <td>...</td>\n",
       "      <td>0</td>\n",
       "      <td>0</td>\n",
       "      <td>0</td>\n",
       "      <td>0</td>\n",
       "      <td>1</td>\n",
       "      <td>False</td>\n",
       "      <td>True</td>\n",
       "      <td>False</td>\n",
       "      <td>False</td>\n",
       "      <td>False</td>\n",
       "    </tr>\n",
       "    <tr>\n",
       "      <th>2</th>\n",
       "      <td>2</td>\n",
       "      <td>276985</td>\n",
       "      <td>118</td>\n",
       "      <td>25.0</td>\n",
       "      <td>31.952749</td>\n",
       "      <td>0</td>\n",
       "      <td>0</td>\n",
       "      <td>172.7</td>\n",
       "      <td>Emergency Department</td>\n",
       "      <td>Accident &amp; Emergency</td>\n",
       "      <td>...</td>\n",
       "      <td>0</td>\n",
       "      <td>0</td>\n",
       "      <td>0</td>\n",
       "      <td>0</td>\n",
       "      <td>0</td>\n",
       "      <td>False</td>\n",
       "      <td>True</td>\n",
       "      <td>False</td>\n",
       "      <td>False</td>\n",
       "      <td>False</td>\n",
       "    </tr>\n",
       "  </tbody>\n",
       "</table>\n",
       "<p>3 rows × 57 columns</p>\n",
       "</div>"
      ],
      "text/plain": [
       "   Unnamed: 0  encounter_id  hospital_id   age        bmi  elective_surgery  \\\n",
       "0           0        214826          118  68.0  22.732803                 0   \n",
       "1           1        246060           81  77.0  27.421875                 0   \n",
       "2           2        276985          118  25.0  31.952749                 0   \n",
       "\n",
       "   gender  height hospital_admit_source      icu_admit_source  ...  \\\n",
       "0       1   180.3                 Floor                 Floor  ...   \n",
       "1       0   160.0                 Floor                 Floor  ...   \n",
       "2       0   172.7  Emergency Department  Accident & Emergency  ...   \n",
       "\n",
       "   immunosuppression leukemia lymphoma  solid_tumor_with_metastasis  \\\n",
       "0                  0        0        0                            0   \n",
       "1                  0        0        0                            0   \n",
       "2                  0        0        0                            0   \n",
       "\n",
       "   diabetes_mellitus  ethnicity_Asian  ethnicity_Caucasian  \\\n",
       "0                  1            False                 True   \n",
       "1                  1            False                 True   \n",
       "2                  0            False                 True   \n",
       "\n",
       "   ethnicity_Hispanic  ethnicity_Native American  ethnicity_Other/Unknown  \n",
       "0               False                      False                    False  \n",
       "1               False                      False                    False  \n",
       "2               False                      False                    False  \n",
       "\n",
       "[3 rows x 57 columns]"
      ]
     },
     "metadata": {},
     "output_type": "display_data"
    }
   ],
   "source": [
    "df_clean = drop_invalid_rows(df_raw) \n",
    "df_clean = fill_missing_values(df_clean) \n",
    "df_clean = encode_ethnicity(df_clean)  \n",
    "df_clean = encode_gender(df_clean)      \n",
    "print(f\"[preprocess] After cleaning/encoding: {df_clean.shape}\")\n",
    "display(df_clean.head(3))\n"
   ]
  },
  {
   "cell_type": "markdown",
   "id": "54223e39",
   "metadata": {},
   "source": [
    "Create the train and test split"
   ]
  },
  {
   "cell_type": "code",
   "execution_count": 12,
   "id": "ca6817b4",
   "metadata": {},
   "outputs": [
    {
     "name": "stdout",
     "output_type": "stream",
     "text": [
      "[split] Train=(7494, 57) | Test=(1874, 57)\n"
     ]
    }
   ],
   "source": [
    "train_df, test_df = modeling.split_data(df_clean, test_size=0.2, random_state=42)\n",
    "print(f\"[split] Train={train_df.shape} | Test={test_df.shape}\")\n"
   ]
  },
  {
   "cell_type": "markdown",
   "id": "858ea7a5",
   "metadata": {},
   "source": [
    "Modeling features"
   ]
  },
  {
   "cell_type": "code",
   "execution_count": 13,
   "id": "aee1b292",
   "metadata": {},
   "outputs": [
    {
     "name": "stdout",
     "output_type": "stream",
     "text": [
      "[features] total=16\n",
      "['age', 'height', 'weight', 'aids', 'cirrhosis', 'hepatic_failure', 'immunosuppression', 'leukemia', 'lymphoma', 'solid_tumor_with_metastasis', 'ethnicity_Asian', 'ethnicity_Caucasian', 'ethnicity_Hispanic', 'ethnicity_Native American', 'ethnicity_Other/Unknown', 'gender']\n"
     ]
    }
   ],
   "source": [
    "#this is the one\n",
    "base_features = list(modeling.FEATURES)\n",
    "eth_cols = [c for c in df_clean.columns if c.startswith(\"ethnicity_\")]\n",
    "features = base_features + eth_cols + ([\"gender\"] if \"gender\" in df_clean.columns else [])\n",
    "print(f\"[features] total={len(features)}\")\n",
    "print(features)\n",
    "\n",
    "model = modeling.train_model(train_df, features)\n"
   ]
  },
  {
   "cell_type": "markdown",
   "id": "d823d589",
   "metadata": {},
   "source": [
    "Run the actual training function"
   ]
  },
  {
   "cell_type": "code",
   "execution_count": 14,
   "id": "48dbe8d5",
   "metadata": {},
   "outputs": [
    {
     "name": "stdout",
     "output_type": "stream",
     "text": [
      "[train] done\n"
     ]
    }
   ],
   "source": [
    "#new model with features\n",
    "model = modeling.train_model(train_df, features)\n",
    "print(\"[train] done\")\n"
   ]
  },
  {
   "cell_type": "markdown",
   "id": "09ad0bda",
   "metadata": {},
   "source": [
    "Run prediction"
   ]
  },
  {
   "cell_type": "code",
   "execution_count": 15,
   "id": "27002af2",
   "metadata": {},
   "outputs": [
    {
     "name": "stdout",
     "output_type": "stream",
     "text": [
      "[predict] added 'predictions' to train/test\n"
     ]
    }
   ],
   "source": [
    "#updated too\n",
    "train_pred = modeling.add_predictions(train_df.copy(), model, features)\n",
    "test_pred  = modeling.add_predictions(test_df.copy(), model, features)\n",
    "\n",
    "print(\"[predict] added 'predictions' to train/test\")\n"
   ]
  },
  {
   "cell_type": "markdown",
   "id": "b30801ef",
   "metadata": {},
   "source": [
    "AUC"
   ]
  },
  {
   "cell_type": "code",
   "execution_count": 16,
   "id": "b5ea8239",
   "metadata": {},
   "outputs": [
    {
     "name": "stdout",
     "output_type": "stream",
     "text": [
      "[AUC] train=0.689 | test=0.679\n"
     ]
    }
   ],
   "source": [
    "train_auc = compute_auc(train_pred)\n",
    "test_auc  = compute_auc(test_pred)\n",
    "print(f\"[AUC] train={train_auc:.3f} | test={test_auc:.3f}\")\n"
   ]
  }
 ],
 "metadata": {
  "kernelspec": {
   "display_name": "computingfordatasciencehw4 (3.13.0)",
   "language": "python",
   "name": "python3"
  },
  "language_info": {
   "codemirror_mode": {
    "name": "ipython",
    "version": 3
   },
   "file_extension": ".py",
   "mimetype": "text/x-python",
   "name": "python",
   "nbconvert_exporter": "python",
   "pygments_lexer": "ipython3",
   "version": "3.13.0"
  }
 },
 "nbformat": 4,
 "nbformat_minor": 5
}
